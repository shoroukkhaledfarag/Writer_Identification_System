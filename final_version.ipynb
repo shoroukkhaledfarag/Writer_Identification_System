{
 "cells": [
  {
   "cell_type": "code",
   "execution_count": 3,
   "metadata": {},
   "outputs": [],
   "source": [
    "from commonfunctions2 import *\n",
    "from sklearn.svm import SVC\n",
    "import time\n",
    "from natsort import natsorted \n",
    "%matplotlib inline\n",
    "%load_ext autoreload\n",
    "%autoreload 2"
   ]
  },
  {
   "cell_type": "code",
   "execution_count": 4,
   "metadata": {},
   "outputs": [],
   "source": [
    "def main(mainFolder , value = 'main'):   \n",
    "    file1=[]\n",
    "    PREDICTED_KNN=[]\n",
    "    PREDICTED_SVM=[]\n",
    "    true_values = ''\n",
    "    total_predictions = 0\n",
    "    index=-1\n",
    "    if value == 'performance':\n",
    "        file1 = open('C:/Users/reem9/Desktop/Fall-2020/PR/Pipline_working_2/'+mainFolder+'/out.txt', 'r') \n",
    "        true_values = file1.readlines() \n",
    "        total_predictions = len(true_values) \n",
    "    \n",
    "    direcs = natsorted(glob.glob (mainFolder+'/*'))\n",
    "    result_file= open(\"results.txt\",\"w\")\n",
    "    time_file=open(\"time.txt\",\"w\")\n",
    "    for sub_direc in direcs:\n",
    "            index+=1\n",
    "            print('Test case Number :',str(index+1))\n",
    "\n",
    "            folder = sub_direc+'/*'\n",
    "\n",
    "            print('-------------------------Training Started----------------------------')\n",
    "            start_time = time.time()\n",
    "            feature_vector_all,labels=train(folder)\n",
    "            print('-------------------------Training Finished----------------------------')\n",
    "            \n",
    "            path=sub_direc+'/test.png'\n",
    "\n",
    "            files = glob.glob(path)\n",
    "            for file in files:\n",
    "                img = io.imread(file) \n",
    "\n",
    "                \n",
    "                binarized_image=preprocessing(img)\n",
    "                \n",
    "                cropped_image=Block_segmentation(binarized_image)\n",
    "\n",
    "                segmented_lines,min_r2,max_r2=line_segmentation(cropped_image)\n",
    "                \n",
    "                correct_knn = []\n",
    "                for j in range(len(segmented_lines)):\n",
    "                    \n",
    "                    LL =   feature_extraction(segmented_lines[j])\n",
    "                    \n",
    "                    knn_test_prediction= KNN1(feature_vector_all,LL,labels,3)\n",
    "\n",
    "                    correct_knn.append(knn_test_prediction)\n",
    "\n",
    "\n",
    "                correct_knn=np.asarray(correct_knn)\n",
    "                unique_elements, counts_elements = np.unique(correct_knn, return_counts=True)\n",
    "\n",
    "                classification=unique_elements[np.argmax(counts_elements)]\n",
    "                \n",
    "                \n",
    "                end_time = time.time()\n",
    "                \n",
    "                print('classification= ',classification)\n",
    "                \n",
    "                \n",
    "                executionTime = round(end_time-start_time, 2)\n",
    "\n",
    "                print(\"execution Time = \",executionTime)\n",
    "                result_file.write(str(classification))\n",
    "                result_file.write('\\n')\n",
    "                time_file.write(str(executionTime))\n",
    "                time_file.write('\\n')\n",
    "\n",
    "                if value == 'performance':     \n",
    "                    if(int(true_values[index])==classification):\n",
    "                        PREDICTED_KNN.append(classification)\n",
    "\n",
    "                print(\"#######################################################################################\")\n",
    "    result_file.close()\n",
    "    time_file.close()\n",
    "\n",
    " \n",
    "      \n",
    "\n",
    "        # -----------------------------------------------------------------------------------------------------\n",
    "\n",
    "    if value == 'performance':     \n",
    "        k_n_n=len(PREDICTED_KNN)\n",
    "\n",
    "        print(\"k_n_n: \",k_n_n)\n",
    "        \n",
    "        accuracy_knn = (k_n_n/total_predictions)*100\n",
    "\n",
    "        print(\"accuracy_knn:\",accuracy_knn)\n",
    "    \n",
    "\n",
    "    \n",
    "        "
   ]
  },
  {
   "cell_type": "markdown",
   "metadata": {},
   "source": [
    "# Main "
   ]
  },
  {
   "cell_type": "code",
   "execution_count": 7,
   "metadata": {
    "scrolled": true
   },
   "outputs": [],
   "source": [
    "mainFolder = 'data'\n",
    "main(mainFolder , 'test')"
   ]
  },
  {
   "cell_type": "markdown",
   "metadata": {},
   "source": [
    "# Performance Analysis"
   ]
  },
  {
   "cell_type": "code",
   "execution_count": 5,
   "metadata": {},
   "outputs": [
    {
     "name": "stdout",
     "output_type": "stream",
     "text": [
      "k_n_n:  0\n",
      "accuracy_knn: 0.0\n"
     ]
    }
   ],
   "source": [
    "mainFolder = 'TestSet_3'\n",
    "main(mainFolder , 'performance')"
   ]
  },
  {
   "cell_type": "code",
   "execution_count": null,
   "metadata": {},
   "outputs": [],
   "source": []
  }
 ],
 "metadata": {
  "kernelspec": {
   "display_name": "Python 3",
   "language": "python",
   "name": "python3"
  },
  "language_info": {
   "codemirror_mode": {
    "name": "ipython",
    "version": 3
   },
   "file_extension": ".py",
   "mimetype": "text/x-python",
   "name": "python",
   "nbconvert_exporter": "python",
   "pygments_lexer": "ipython3",
   "version": "3.8.3"
  }
 },
 "nbformat": 4,
 "nbformat_minor": 4
}
